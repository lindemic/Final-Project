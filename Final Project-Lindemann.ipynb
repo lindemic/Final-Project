{
 "cells": [
  {
   "cell_type": "code",
   "execution_count": null,
   "id": "5fa61c89",
   "metadata": {},
   "outputs": [],
   "source": [
    "##This code allows you to take a DNA string and convert it to the corresponding amino acid sequence,represented by their one letter codes. \n",
    "##It then outputs information on the amino acid sequence including sequence length and frequency of individual amino acids in the sequence by percentage.\n",
    "##Finally, this code outputs a pie chart of the amino acids in the sequence based on percentage. \n",
    "##Refer to the README.md file for additional information on required inputs and expected outputs.\n",
    "##Requires entire DNA sequence to be on a single line in the txt file.\n",
    "##Author:Michaela Lindemann"
   ]
  },
  {
   "cell_type": "code",
   "execution_count": null,
   "id": "65746e0e",
   "metadata": {},
   "outputs": [],
   "source": [
    "import os\n",
    "import numpy as np\n",
    "#Open DNA.txt file and saved data to a numpy array called DNA_sequence.\n",
    "#This subroutine reads a txt and puts the data into a numpy array of string.\n",
    "#It also prints the DNA sequence found in the imput text file.\n",
    "#INPUT:\n",
    "    #Prompt for location of DNA txt file\n",
    "#OUTPUT:\n",
    "    #1)DNA_sequence:numpy array of string\n",
    "    #2)Prints DNA_sequence\n",
    "data_location = input('Enter path to DNA file:')\n",
    "DNA_sequence_text= np.genfromtxt(fname=data_location, dtype='unicode')  \n",
    "DNA_sequence=str(DNA_sequence_text)\n",
    "print(DNA_sequence)"
   ]
  },
  {
   "cell_type": "code",
   "execution_count": null,
   "id": "5cbb3252",
   "metadata": {},
   "outputs": [],
   "source": [
    "import os\n",
    "#Save amino acid key data in key_data to be used later to convert the DNA sequence to its corresponding amino acid sequence.\n",
    "#This subroutine reads a txt and outputs the data as a list.\n",
    "#INPUT:\n",
    "    #Prompt for location of Key txt file\n",
    "\n",
    "key_file_location = input('Enter path to Key file:')\n",
    "key_file=open(key_file_location,'r')\n",
    "key_data = key_file.readlines()\n",
    "key_file.close() "
   ]
  },
  {
   "cell_type": "code",
   "execution_count": null,
   "id": "e1582d0a",
   "metadata": {},
   "outputs": [],
   "source": [
    "#Translate the DNA sequence to the corresponding one letter amino acid codes and output them in a list called amino_acid_decode.\n",
    "#This subroutine takes the DNA sequence and converts it to an amino acid sequence.\n",
    "#INPUT:\n",
    "    #DNA_sequence data in string form inputed from txt file\n",
    "#OUTPUT\n",
    "     #Show on the screen the amino acid sequence in list format\n",
    "    \n",
    "amino_acid_decode=[]\n",
    "codon_array=[]\n",
    "#3 letter codons\n",
    "for i in range(0, len(DNA_sequence), 3):\n",
    "    codon_1=DNA_sequence[i:i+3]\n",
    "    codon_array.append(codon_1)\n",
    "for codon in codon_array:\n",
    "    for line in key_data:\n",
    "        if codon in line:\n",
    "            codon_line_split=line.split()\n",
    "            amino_acid_decode.append(codon_line_split[-1])\n",
    "print(amino_acid_decode)"
   ]
  },
  {
   "cell_type": "code",
   "execution_count": null,
   "id": "0a545275",
   "metadata": {},
   "outputs": [],
   "source": [
    "#Determine the amino acid sequence length.\n",
    "#This subroutine shows the length of the amino acid sequence.\n",
    "#INPUT:\n",
    "    #The amnio acid sequence in list form\n",
    "#OUTPUT:\n",
    "    #On the screen, the length of the amnio acid sequence as an integer\n",
    "    \n",
    "amino_acids_list = set(amino_acid_decode)\n",
    "sequence_length=len(amino_acid_decode)\n",
    "print (sequence_length)"
   ]
  },
  {
   "cell_type": "code",
   "execution_count": null,
   "id": "7422b33f",
   "metadata": {},
   "outputs": [],
   "source": [
    "#Determine the percentage of each amino acid in the total sequence.\n",
    "#This subroutine takes shows each amino acid and its percentage of the total sequence.  \n",
    "#INPUT\n",
    "    #The amino acid in list form\n",
    "#OUTPUT\n",
    "    #The one letter amino acid codes present in the list followed by their frequency as a percentage of the whole persented as a list on the screen\n",
    "\n",
    "percent=[]\n",
    "for amino_acid in amino_acids_list:\n",
    "    amino_acid_count = amino_acid_decode.count(amino_acid)\n",
    "    amino_acid_percent = (amino_acid_count/sequence_length) * 100\n",
    "    percent.append(amino_acid_percent)\n",
    "    print(amino_acid,\":\",round(amino_acid_percent,1),\"%\")"
   ]
  },
  {
   "cell_type": "code",
   "execution_count": null,
   "id": "06eac9c8",
   "metadata": {},
   "outputs": [],
   "source": [
    "#We graph the amino acids in a pie chart based on their frequency by percentage.\n",
    "#This subroutine takes the amino acid sequence breakdown by percentage and plots it in a pie chart.\n",
    "#INPUT:\n",
    "    #1)List of percentage for each amino amino acid in the sequence\n",
    "    #2)List of amino acid one letter codes present in the sequence\n",
    "#OUTPUT\n",
    "     #Pie plot on screen showing frequency of amino acids in sequence by percentage\n",
    "    \n",
    "import matplotlib.pyplot as plt\n",
    "\n",
    "plt.pie(percent, labels = amino_acids_list)\n",
    "plt.title('Amino Acid Breakdown by Percentage')\n",
    "plt.show() "
   ]
  },
  {
   "cell_type": "code",
   "execution_count": null,
   "id": "56a3e5fd",
   "metadata": {},
   "outputs": [],
   "source": []
  }
 ],
 "metadata": {
  "kernelspec": {
   "display_name": "Python 3 (ipykernel)",
   "language": "python",
   "name": "python3"
  },
  "language_info": {
   "codemirror_mode": {
    "name": "ipython",
    "version": 3
   },
   "file_extension": ".py",
   "mimetype": "text/x-python",
   "name": "python",
   "nbconvert_exporter": "python",
   "pygments_lexer": "ipython3",
   "version": "3.9.13"
  }
 },
 "nbformat": 4,
 "nbformat_minor": 5
}
